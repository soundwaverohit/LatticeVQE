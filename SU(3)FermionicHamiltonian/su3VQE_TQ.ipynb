{
 "cells": [
  {
   "cell_type": "code",
   "execution_count": 21,
   "metadata": {},
   "outputs": [],
   "source": [
    "import pickle\n",
    "qubit_hamil = pickle.load(open('qubit_hamiltonian.pkl', 'rb'))"
   ]
  },
  {
   "cell_type": "code",
   "execution_count": 22,
   "metadata": {},
   "outputs": [
    {
     "data": {
      "text/plain": [
       "[('IIIIIIIIYZZY', (-0.9673707653599766+0j)),\n",
       " ('IIIIIIIIXZZX', (-0.9673707653599766+0j)),\n",
       " ('IIIIIIIYZZYI', (-0.9673707653599766+0j)),\n",
       " ('IIIIIIIXZZXI', (-0.9673707653599766+0j)),\n",
       " ('IIIIIIYZZYII', (-0.9673707653599766+0j)),\n",
       " ('IIIIIIXZZXII', (-0.9673707653599766+0j)),\n",
       " ('IIIIIYZZYIII', (-0.8341490186837718+0j)),\n",
       " ('IIIIIXZZXIII', (-0.8341490186837718+0j)),\n",
       " ('IIIIYZZYIIII', (-0.8341490186837718+0j)),\n",
       " ('IIIIXZZXIIII', (-0.8341490186837718+0j)),\n",
       " ('IIIYZZYIIIII', (-0.8341490186837718+0j)),\n",
       " ('IIIXZZXIIIII', (-0.8341490186837718+0j)),\n",
       " ('IIYZZYIIIIII', (-0.75+0j)),\n",
       " ('IIXZZXIIIIII', (-0.75+0j)),\n",
       " ('IYZZYIIIIIII', (-0.75+0j)),\n",
       " ('IXZZXIIIIIII', (-0.75+0j)),\n",
       " ('YZZYIIIIIIII', (-0.75+0j)),\n",
       " ('XZZXIIIIIIII', (-0.75+0j)),\n",
       " ('IIIIIIIIIIII', (3+0j)),\n",
       " ('IIIIIIIIIIIZ', (-0.25+0j)),\n",
       " ('IIIIIIIIIIZI', (-0.25+0j)),\n",
       " ('IIIIIIIIIZII', (-0.25+0j)),\n",
       " ('IIIIIIIIZIII', (-0.25+0j)),\n",
       " ('IIIIIIIZIIII', (-0.25+0j)),\n",
       " ('IIIIIIZIIIII', (-0.25+0j)),\n",
       " ('IIIIIZIIIIII', (-0.25+0j)),\n",
       " ('IIIIZIIIIIII', (-0.25+0j)),\n",
       " ('IIIZIIIIIIII', (-0.25+0j)),\n",
       " ('IIZIIIIIIIII', (-0.25+0j)),\n",
       " ('IZIIIIIIIIII', (-0.25+0j)),\n",
       " ('ZIIIIIIIIIII', (-0.25+0j))]"
      ]
     },
     "execution_count": 22,
     "metadata": {},
     "output_type": "execute_result"
    }
   ],
   "source": [
    "qubit_hamil"
   ]
  },
  {
   "cell_type": "code",
   "execution_count": 23,
   "metadata": {},
   "outputs": [],
   "source": [
    "def qiskit_to_tq(hamiltonians, n_qubits):\n",
    "    with open(\"hamiltonian.txt\", \"w\") as f:\n",
    "        f.write(f\"h2 bk {n_qubits}\\n\")\n",
    "        for item in hamiltonians:\n",
    "            coeff=item[1]\n",
    "            for i in range(n_qubits):\n",
    "                if item[0][i]==\"Y\":\n",
    "                    coeff*=1j\n",
    "            assert coeff.imag==0\n",
    "            f.write(f\"{coeff.real} \")\n",
    "            for i in range(n_qubits):\n",
    "                f.write(f\"{item[0][i]}{i} \")\n",
    "            f.write(\"\\n\")\n",
    "\n"
   ]
  },
  {
   "cell_type": "code",
   "execution_count": 29,
   "metadata": {},
   "outputs": [],
   "source": [
    "qiskit_to_tq(qubit_hamil, 12)"
   ]
  },
  {
   "cell_type": "code",
   "execution_count": null,
   "metadata": {},
   "outputs": [],
   "source": []
  }
 ],
 "metadata": {
  "kernelspec": {
   "display_name": "base",
   "language": "python",
   "name": "python3"
  },
  "language_info": {
   "codemirror_mode": {
    "name": "ipython",
    "version": 3
   },
   "file_extension": ".py",
   "mimetype": "text/x-python",
   "name": "python",
   "nbconvert_exporter": "python",
   "pygments_lexer": "ipython3",
   "version": "3.11.8"
  }
 },
 "nbformat": 4,
 "nbformat_minor": 2
}
